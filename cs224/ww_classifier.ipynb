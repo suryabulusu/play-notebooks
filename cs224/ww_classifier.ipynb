{
 "cells": [
  {
   "cell_type": "markdown",
   "metadata": {},
   "source": [
    "## CS 224N Lecture 3: Word Window Classification\n",
    "\n",
    "### Pytorch Exploration\n",
    "\n",
    "### Author: Matthew Lamm"
   ]
  },
  {
   "cell_type": "code",
   "execution_count": 3,
   "metadata": {},
   "outputs": [],
   "source": [
    "import pprint\n",
    "import torch\n",
    "import torch.nn as nn\n",
    "pp = pprint.PrettyPrinter()"
   ]
  },
  {
   "cell_type": "markdown",
   "metadata": {},
   "source": [
    "## Our Data\n",
    "\n",
    "The task at hand is to assign a label of 1 to words in a sentence that correspond with a LOCATION, and a label of 0 to everything else. \n",
    "\n",
    "In this simplified example, we only ever see spans of length 1."
   ]
  },
  {
   "cell_type": "code",
   "execution_count": 6,
   "metadata": {},
   "outputs": [],
   "source": [
    "train_sents = [s.lower().split() for s in [\"we 'll always have Paris\",\n",
    "                                           \"I live in Germany\",\n",
    "                                           \"He comes from Denmark\",\n",
    "                                           \"The capital of Denmark is Copenhagen\"]]\n",
    "train_labels = [[0, 0, 0, 0, 1],\n",
    "                [0, 0, 0, 1],\n",
    "                [0, 0, 0, 1],\n",
    "                [0, 0, 0, 1, 0, 1]]\n",
    "\n",
    "assert all([len(train_sents[i]) == len(train_labels[i]) for i in range(len(train_sents))])\n"
   ]
  },
  {
   "cell_type": "code",
   "execution_count": 7,
   "metadata": {},
   "outputs": [],
   "source": [
    "test_sents = [s.lower().split() for s in [\"She comes from Paris\"]]\n",
    "test_labels = [[0, 0, 0, 1]]\n",
    "\n",
    "assert all([len(test_sents[i]) == len(test_labels[i]) for i in range(len(test_sents))])"
   ]
  },
  {
   "cell_type": "markdown",
   "metadata": {},
   "source": [
    "## Creating a dataset of batched tensors."
   ]
  },
  {
   "cell_type": "markdown",
   "metadata": {},
   "source": [
    "PyTorch (like other deep learning frameworks) is optimized to work on __tensors__, which can be thought of as a generalization of vectors and matrices with arbitrarily large rank.\n",
    "\n",
    "Here well go over how to translate data to a list of vocabulary indices, and how to construct *batch tensors* out of the data for easy input to our model. \n",
    "\n",
    "We'll use the *torch.utils.data.DataLoader* object handle ease of batching and iteration."
   ]
  },
  {
   "cell_type": "markdown",
   "metadata": {},
   "source": [
    "### Converting tokenized sentence lists to vocabulary indices.\n",
    "\n",
    "Let's assume we have the following vocabulary:"
   ]
  },
  {
   "cell_type": "code",
   "execution_count": 8,
   "metadata": {},
   "outputs": [],
   "source": [
    "id_2_word = [\"<pad>\", \"<unk>\", \"we\", \"always\", \"have\", \"paris\",\n",
    "              \"i\", \"live\", \"in\", \"germany\",\n",
    "              \"he\", \"comes\", \"from\", \"denmark\",\n",
    "              \"the\", \"of\", \"is\", \"copenhagen\"]\n",
    "word_2_id = {w:i for i,w in enumerate(id_2_word)}"
   ]
  },
  {
   "cell_type": "code",
   "execution_count": 9,
   "metadata": {},
   "outputs": [
    {
     "name": "stdout",
     "output_type": "stream",
     "text": [
      "['we', \"'ll\", 'always', 'have', 'paris']\n"
     ]
    }
   ],
   "source": [
    "instance = train_sents[0]\n",
    "print(instance)"
   ]
  },
  {
   "cell_type": "code",
   "execution_count": 10,
   "metadata": {},
   "outputs": [],
   "source": [
    "def convert_tokens_to_inds(sentence, word_2_id):\n",
    "    return [word_2_id.get(t, word_2_id[\"<unk>\"]) for t in sentence]"
   ]
  },
  {
   "cell_type": "code",
   "execution_count": 12,
   "metadata": {},
   "outputs": [
    {
     "name": "stdout",
     "output_type": "stream",
     "text": [
      "[2, 1, 3, 4, 5]\n"
     ]
    }
   ],
   "source": [
    "token_inds = convert_tokens_to_inds(instance, word_2_id)\n",
    "pp.pprint(token_inds)"
   ]
  },
  {
   "cell_type": "markdown",
   "metadata": {},
   "source": [
    "Let's convince ourselves that worked:"
   ]
  },
  {
   "cell_type": "code",
   "execution_count": 13,
   "metadata": {},
   "outputs": [
    {
     "name": "stdout",
     "output_type": "stream",
     "text": [
      "['we', '<unk>', 'always', 'have', 'paris']\n"
     ]
    }
   ],
   "source": [
    "print([id_2_word[tok_idx] for tok_idx in token_inds])"
   ]
  },
  {
   "cell_type": "markdown",
   "metadata": {},
   "source": [
    "### Padding for windows."
   ]
  },
  {
   "cell_type": "markdown",
   "metadata": {},
   "source": [
    "In the word window classifier, for each word in the sentence we want to get the +/- n window around the word, where 0 <= n < len(sentence).\n",
    "\n",
    "In order for such windows to be defined for words at the beginning and ends of the sentence, we actually want to insert padding around the sentence before converting to indices:"
   ]
  },
  {
   "cell_type": "code",
   "execution_count": 14,
   "metadata": {},
   "outputs": [],
   "source": [
    "def pad_sentence_for_window(sentence, window_size, pad_token=\"<pad>\"):\n",
    "    return [pad_token]*window_size + sentence + [pad_token]*window_size "
   ]
  },
  {
   "cell_type": "code",
   "execution_count": 15,
   "metadata": {},
   "outputs": [
    {
     "name": "stdout",
     "output_type": "stream",
     "text": [
      "['<pad>', '<pad>', 'we', \"'ll\", 'always', 'have', 'paris', '<pad>', '<pad>']\n"
     ]
    }
   ],
   "source": [
    "window_size = 2\n",
    "instance = pad_sentence_for_window(train_sents[0], window_size)\n",
    "print(instance)"
   ]
  },
  {
   "cell_type": "markdown",
   "metadata": {},
   "source": [
    "Let's make sure this works with our vocabulary:"
   ]
  },
  {
   "cell_type": "code",
   "execution_count": 16,
   "metadata": {
    "scrolled": true
   },
   "outputs": [
    {
     "name": "stdout",
     "output_type": "stream",
     "text": [
      "['<pad>', '<pad>', 'we', '<unk>', 'always', 'have', 'paris', '<pad>', '<pad>']\n",
      "['<pad>', '<pad>', 'i', 'live', 'in', 'germany', '<pad>', '<pad>']\n",
      "['<pad>', '<pad>', 'he', 'comes', 'from', 'denmark', '<pad>', '<pad>']\n",
      "['<pad>', '<pad>', 'the', '<unk>', 'of', 'denmark', 'is', 'copenhagen', '<pad>', '<pad>']\n"
     ]
    }
   ],
   "source": [
    "for sent in train_sents:\n",
    "    tok_idxs = convert_tokens_to_inds(pad_sentence_for_window(sent, window_size), word_2_id)\n",
    "    print([id_2_word[idx] for idx in tok_idxs])"
   ]
  },
  {
   "cell_type": "markdown",
   "metadata": {},
   "source": [
    "### Batching sentences together with a DataLoader"
   ]
  },
  {
   "cell_type": "markdown",
   "metadata": {},
   "source": [
    "When we train our model, we rarely update with respect to a single training instance at a time, because a single instance provides a very noisy estimate of the global loss's gradient. We instead construct small *batches* of data, and update parameters for each batch. "
   ]
  },
  {
   "cell_type": "markdown",
   "metadata": {},
   "source": [
    "Given some batch size, we want to construct batch tensors out of the word index lists we've just created with our vocab.\n",
    "\n",
    "For each length B list of inputs, we'll have to:\n",
    "\n",
    "    (1) Add window padding to sentences in the batch like we just saw.\n",
    "    (2) Add additional padding so that each sentence in the batch is the same length.\n",
    "    (3) Make sure our labels are in the desired format.\n",
    "\n",
    "At the level of the dataest we want:\n",
    "\n",
    "    (4) Easy shuffling, because shuffling from one training epoch to the next gets rid of \n",
    "        pathological batches that are tough to learn from.\n",
    "    (5) Making sure we shuffle inputs and their labels together!\n",
    "    \n",
    "PyTorch provides us with an object *torch.utils.data.DataLoader* that gets us (4) and (5). All that's required of us is to specify a *collate_fn* that tells it how to do (1), (2), and (3). "
   ]
  },
  {
   "cell_type": "code",
   "execution_count": 17,
   "metadata": {},
   "outputs": [
    {
     "name": "stdout",
     "output_type": "stream",
     "text": [
      "('raw train label instance', tensor([0, 0, 0, 0, 1]))\n",
      "torch.Size([5])\n"
     ]
    }
   ],
   "source": [
    "l = torch.LongTensor(train_labels[0])\n",
    "pp.pprint((\"raw train label instance\", l))\n",
    "print(l.size())\n"
   ]
  },
  {
   "cell_type": "code",
   "execution_count": 18,
   "metadata": {},
   "outputs": [
    {
     "name": "stdout",
     "output_type": "stream",
     "text": [
      "('unfilled label instance',\n",
      " tensor([[0., 0., 0., 0., 0.],\n",
      "        [0., 0., 0., 0., 0.]]))\n",
      "torch.Size([2, 5])\n"
     ]
    }
   ],
   "source": [
    "one_hots = torch.zeros((2, len(l)))\n",
    "pp.pprint((\"unfilled label instance\", one_hots))\n",
    "print(one_hots.size())"
   ]
  },
  {
   "cell_type": "code",
   "execution_count": 19,
   "metadata": {},
   "outputs": [
    {
     "name": "stdout",
     "output_type": "stream",
     "text": [
      "('one-hot labels', tensor([[0., 0., 0., 0., 0.],\n",
      "        [0., 0., 0., 0., 1.]]))\n"
     ]
    }
   ],
   "source": [
    "one_hots[1] = l\n",
    "pp.pprint((\"one-hot labels\", one_hots))"
   ]
  },
  {
   "cell_type": "code",
   "execution_count": 20,
   "metadata": {},
   "outputs": [
    {
     "name": "stdout",
     "output_type": "stream",
     "text": [
      "('one-hot labels', tensor([[1., 1., 1., 1., 0.],\n",
      "        [0., 0., 0., 0., 1.]]))\n"
     ]
    }
   ],
   "source": [
    "l_not = ~l.bool()\n",
    "one_hots[0] = l_not\n",
    "pp.pprint((\"one-hot labels\", one_hots))"
   ]
  },
  {
   "cell_type": "code",
   "execution_count": 21,
   "metadata": {},
   "outputs": [],
   "source": [
    "from torch.utils.data import DataLoader\n",
    "from functools import partial"
   ]
  },
  {
   "cell_type": "code",
   "execution_count": 22,
   "metadata": {},
   "outputs": [],
   "source": [
    "def my_collate(data, window_size, word_2_id):\n",
    "    \"\"\"\n",
    "    For some chunk of sentences and labels\n",
    "        -add winow padding\n",
    "        -pad for lengths using pad_sequence\n",
    "        -convert our labels to one-hots\n",
    "        -return padded inputs, one-hot labels, and lengths\n",
    "    \"\"\"\n",
    "    \n",
    "    x_s, y_s = zip(*data)\n",
    "\n",
    "    # deal with input sentences as we've seen\n",
    "    window_padded = [convert_tokens_to_inds(pad_sentence_for_window(sentence, window_size), word_2_id)\n",
    "                                                                                  for sentence in x_s]\n",
    "    # append zeros to each list of token ids in batch so that they are all the same length\n",
    "    padded = nn.utils.rnn.pad_sequence([torch.LongTensor(t) for t in window_padded], batch_first=True)\n",
    "    \n",
    "    # convert labels to one-hots\n",
    "    labels = []\n",
    "    lengths = []\n",
    "    for y in y_s:\n",
    "        lengths.append(len(y))\n",
    "        label = torch.zeros((len(y),2 ))\n",
    "        true = torch.LongTensor(y) \n",
    "        false = ~true.bool()\n",
    "        label[:, 0] = false\n",
    "        label[:, 1] = true\n",
    "        labels.append(label)\n",
    "    padded_labels = nn.utils.rnn.pad_sequence(labels, batch_first=True)\n",
    "    \n",
    "    return padded.long(), padded_labels, torch.LongTensor(lengths)"
   ]
  },
  {
   "cell_type": "code",
   "execution_count": 23,
   "metadata": {},
   "outputs": [],
   "source": [
    "# Shuffle True is good practice for train loaders.\n",
    "# Use functools.partial to construct a partially populated collate function\n",
    "example_loader = DataLoader(list(zip(train_sents, \n",
    "                                                      train_labels)), \n",
    "                                             batch_size=2, \n",
    "                                             shuffle=True, \n",
    "                                             collate_fn=partial(my_collate, window_size=2, word_2_id=word_2_id))"
   ]
  },
  {
   "cell_type": "code",
   "execution_count": 24,
   "metadata": {},
   "outputs": [
    {
     "name": "stdout",
     "output_type": "stream",
     "text": [
      "('inputs',\n",
      " tensor([[ 0,  0,  6,  7,  8,  9,  0,  0],\n",
      "        [ 0,  0, 10, 11, 12, 13,  0,  0]]),\n",
      " torch.Size([2, 8]))\n",
      "('labels',\n",
      " tensor([[[1., 0.],\n",
      "         [1., 0.],\n",
      "         [1., 0.],\n",
      "         [0., 1.]],\n",
      "\n",
      "        [[1., 0.],\n",
      "         [1., 0.],\n",
      "         [1., 0.],\n",
      "         [0., 1.]]]),\n",
      " torch.Size([2, 4, 2]))\n",
      "tensor([4, 4])\n"
     ]
    }
   ],
   "source": [
    "for batched_input, batched_labels, batch_lengths in example_loader:\n",
    "    pp.pprint((\"inputs\", batched_input, batched_input.size()))\n",
    "    pp.pprint((\"labels\", batched_labels, batched_labels.size()))\n",
    "    pp.pprint(batch_lengths)\n",
    "    break"
   ]
  },
  {
   "cell_type": "markdown",
   "metadata": {},
   "source": [
    "## Modeling\n",
    "\n",
    "### Thinking through vectorization of word windows.\n",
    "Before we go ahead and build our model, let's think about the first thing it needs to do to its inputs.\n",
    "\n",
    "We're passed batches of sentences. For each sentence i in the batch, for each word j in the sentence, we want to construct a single tensor out of the embeddings surrounding word j in the +/- n window.\n",
    "\n",
    "Thus, the first thing we're going to need a (B, L, 2N+1) tensor of token indices."
   ]
  },
  {
   "cell_type": "markdown",
   "metadata": {},
   "source": [
    "A *terrible* but nevertheless informative *iterative* solution looks something like the following, where we iterate through batch elements in our (dummy), iterating non-padded word positions in those, and for each non-padded word position, construct a window:"
   ]
  },
  {
   "cell_type": "code",
   "execution_count": 25,
   "metadata": {},
   "outputs": [
    {
     "name": "stdout",
     "output_type": "stream",
     "text": [
      "tensor([[0, 0, 1, 2, 3, 4, 0, 0],\n",
      "        [0, 0, 5, 6, 7, 8, 0, 0]])\n"
     ]
    }
   ],
   "source": [
    "dummy_input = torch.zeros(2, 8).long()\n",
    "dummy_input[:,2:-2] = torch.arange(1,9).view(2,4)\n",
    "pp.pprint(dummy_input)"
   ]
  },
  {
   "cell_type": "code",
   "execution_count": 26,
   "metadata": {},
   "outputs": [
    {
     "name": "stdout",
     "output_type": "stream",
     "text": [
      "torch.Size([2, 4, 5])\n",
      "tensor([[[0, 0, 1, 2, 3],\n",
      "         [0, 1, 2, 3, 4],\n",
      "         [1, 2, 3, 4, 0],\n",
      "         [2, 3, 4, 0, 0]],\n",
      "\n",
      "        [[0, 0, 5, 6, 7],\n",
      "         [0, 5, 6, 7, 8],\n",
      "         [5, 6, 7, 8, 0],\n",
      "         [6, 7, 8, 0, 0]]])\n"
     ]
    }
   ],
   "source": [
    "dummy_output = [[[dummy_input[i, j-2+k].item() for k in range(2*2+1)] \n",
    "                                                     for j in range(2, 6)]     # for each L (word)\n",
    "                                                            for i in range(2)] # for each batch\n",
    "dummy_output = torch.LongTensor(dummy_output)\n",
    "print(dummy_output.size())\n",
    "pp.pprint(dummy_output)"
   ]
  },
  {
   "cell_type": "markdown",
   "metadata": {},
   "source": [
    "*Technically* it works: For each element in the batch, for each word in the original sentence and ignoring window padding, we've got the 5 token indices centered at that word. But in practice will be crazy slow."
   ]
  },
  {
   "cell_type": "markdown",
   "metadata": {},
   "source": [
    "Instead, we ideally want to find the right tensor operation in the PyTorch arsenal. Here, that happens to be __Tensor.unfold__."
   ]
  },
  {
   "cell_type": "code",
   "execution_count": 27,
   "metadata": {},
   "outputs": [
    {
     "data": {
      "text/plain": [
       "tensor([[[0, 0, 1, 2, 3],\n",
       "         [0, 1, 2, 3, 4],\n",
       "         [1, 2, 3, 4, 0],\n",
       "         [2, 3, 4, 0, 0]],\n",
       "\n",
       "        [[0, 0, 5, 6, 7],\n",
       "         [0, 5, 6, 7, 8],\n",
       "         [5, 6, 7, 8, 0],\n",
       "         [6, 7, 8, 0, 0]]])"
      ]
     },
     "execution_count": 27,
     "metadata": {},
     "output_type": "execute_result"
    }
   ],
   "source": [
    "dummy_input.unfold(1, 2*2+1, 1) # woooooow"
   ]
  },
  {
   "cell_type": "markdown",
   "metadata": {},
   "source": [
    "### A model in full."
   ]
  },
  {
   "cell_type": "markdown",
   "metadata": {},
   "source": [
    "In PyTorch, we implement models by extending the nn.Module class. Minimally, this requires implementing an *\\_\\_init\\_\\_* function and a *forward* function.\n",
    "\n",
    "In *\\_\\_init\\_\\_* we want to store model parameters (weights) and hyperparameters (dimensions).\n"
   ]
  },
  {
   "cell_type": "code",
   "execution_count": 36,
   "metadata": {},
   "outputs": [],
   "source": [
    "class SoftmaxWordWindowClassifier(nn.Module):\n",
    "    \"\"\"\n",
    "    A one-layer, binary word-window classifier.\n",
    "    \"\"\"\n",
    "    def __init__(self, config, vocab_size, pad_idx=0):\n",
    "        super(SoftmaxWordWindowClassifier, self).__init__()\n",
    "        \"\"\"\n",
    "        Instance variables.\n",
    "        \"\"\"\n",
    "        self.window_size = 2*config[\"half_window\"]+1\n",
    "        self.embed_dim = config[\"embed_dim\"]\n",
    "        self.hidden_dim = config[\"hidden_dim\"]\n",
    "        self.num_classes = config[\"num_classes\"]\n",
    "        self.freeze_embeddings = config[\"freeze_embeddings\"]\n",
    "        \n",
    "        \"\"\"\n",
    "        Embedding layer\n",
    "        -model holds an embedding for each layer in our vocab\n",
    "        -sets aside a special index in the embedding matrix for padding vector (of zeros)\n",
    "        -by default, embeddings are parameters (so gradients pass through them)\n",
    "        \"\"\"\n",
    "        self.embed_layer = nn.Embedding(vocab_size, self.embed_dim, padding_idx=pad_idx)\n",
    "        if self.freeze_embeddings:\n",
    "            self.embed_layer.weight.requires_grad = False\n",
    "        \n",
    "        \"\"\"\n",
    "        Hidden layer\n",
    "        -we want to map embedded word windows of dim (window_size+1)*self.embed_dim to a hidden layer.\n",
    "        -nn.Sequential allows you to efficiently specify sequentially structured models\n",
    "            -first the linear transformation is evoked on the embedded word windows\n",
    "            -next the nonlinear transformation tanh is evoked.\n",
    "        \"\"\"\n",
    "        self.hidden_layer = nn.Sequential(nn.Linear(self.window_size*self.embed_dim, \n",
    "                                                    self.hidden_dim), \n",
    "                                          nn.Tanh())\n",
    "        \n",
    "        \"\"\"\n",
    "        Output layer\n",
    "        -we want to map elements of the output layer (of size self.hidden dim) to a number of classes.\n",
    "        \"\"\"\n",
    "        self.output_layer = nn.Linear(self.hidden_dim, self.num_classes)\n",
    "        \n",
    "        \"\"\"\n",
    "        Softmax\n",
    "        -The final step of the softmax classifier: mapping final hidden layer to class scores.\n",
    "        -pytorch has both logsoftmax and softmax functions (and many others)\n",
    "        -since our loss is the negative LOG likelihood, we use logsoftmax\n",
    "        -technically you can take the softmax, and take the log but PyTorch's implementation\n",
    "         is optimized to avoid numerical underflow issues.\n",
    "        \"\"\"\n",
    "        self.log_softmax = nn.LogSoftmax(dim=2)\n",
    "        \n",
    "    def forward(self, inputs):\n",
    "        \"\"\"\n",
    "        Let B:= batch_size\n",
    "            L:= window-padded sentence length\n",
    "            D:= self.embed_dim\n",
    "            S:= self.window_size\n",
    "            H:= self.hidden_dim\n",
    "            \n",
    "        inputs: a (B, L) tensor of token indices\n",
    "        \"\"\"\n",
    "        B, L = inputs.size()\n",
    "        \n",
    "        \"\"\"\n",
    "        Reshaping.\n",
    "        Takes in a (B, L) LongTensor\n",
    "        Outputs a (B, L~, S) LongTensor\n",
    "        \"\"\"\n",
    "        # Fist, get our word windows for each word in our input.\n",
    "        token_windows = inputs.unfold(1, self.window_size, 1)\n",
    "        _, adjusted_length, _ = token_windows.size()\n",
    "        \n",
    "        # Good idea to do internal tensor-size sanity checks, at the least in comments!\n",
    "        assert token_windows.size() == (B, adjusted_length, self.window_size)\n",
    "        \n",
    "        \"\"\"\n",
    "        Embedding.\n",
    "        Takes in a torch.LongTensor of size (B, L~, S) \n",
    "        Outputs a (B, L~, S, D) FloatTensor.\n",
    "        \"\"\"\n",
    "        embedded_windows = self.embed_layer(token_windows)\n",
    "        \n",
    "        \"\"\"o\n",
    "        Reshaping.\n",
    "        Takes in a (B, L~, S, D) FloatTensor.\n",
    "        Resizes it into a (B, L~, S*D) FloatTensor.\n",
    "        -1 argument \"infers\" what the last dimension should be based on leftover axes.\n",
    "        \"\"\"\n",
    "        embedded_windows = embedded_windows.view(B, adjusted_length, -1)\n",
    "        \n",
    "        \"\"\"\n",
    "        Layer 1.\n",
    "        Takes in a (B, L~, S*D) FloatTensor.\n",
    "        Resizes it into a (B, L~, H) FloatTensor\n",
    "        \"\"\"\n",
    "        layer_1 = self.hidden_layer(embedded_windows)\n",
    "        \n",
    "        \"\"\"\n",
    "        Layer 2\n",
    "        Takes in a (B, L~, H) FloatTensor.\n",
    "        Resizes it into a (B, L~, 2) FloatTensor.\n",
    "        \"\"\"\n",
    "        output = self.output_layer(layer_1)\n",
    "        \n",
    "        \"\"\"\n",
    "        Softmax.\n",
    "        Takes in a (B, L~, 2) FloatTensor of unnormalized class scores.\n",
    "        Outputs a (B, L~, 2) FloatTensor of (log-)normalized class scores.\n",
    "        \"\"\"\n",
    "        output = self.log_softmax(output)\n",
    "        \n",
    "        return output"
   ]
  },
  {
   "cell_type": "markdown",
   "metadata": {},
   "source": [
    "### Training.\n",
    "\n",
    "Now that we've got a model, we have to train it."
   ]
  },
  {
   "cell_type": "code",
   "execution_count": 37,
   "metadata": {},
   "outputs": [],
   "source": [
    "def loss_function(outputs, labels, lengths):\n",
    "    \"\"\"Computes negative LL loss on a batch of model predictions.\"\"\"\n",
    "    B, L, num_classes = outputs.size()\n",
    "    num_elems = lengths.sum().float()\n",
    "        \n",
    "    # get only the values with non-zero labels\n",
    "    loss = outputs*labels\n",
    "    \n",
    "    # rescale average\n",
    "    return -loss.sum() / num_elems"
   ]
  },
  {
   "cell_type": "code",
   "execution_count": 38,
   "metadata": {},
   "outputs": [],
   "source": [
    "def train_epoch(loss_function, optimizer, model, train_data):\n",
    "    \n",
    "    ## For each batch, we must reset the gradients\n",
    "    ## stored by the model.   \n",
    "    total_loss = 0\n",
    "    for batch, labels, lengths in train_data:\n",
    "        # clear gradients\n",
    "        optimizer.zero_grad()\n",
    "        # evoke model in training mode on batch\n",
    "        outputs = model.forward(batch)\n",
    "        # compute loss w.r.t batch\n",
    "        loss = loss_function(outputs, labels, lengths)\n",
    "        # pass gradients back, startiing on loss value\n",
    "        loss.backward()\n",
    "        # update parameters\n",
    "        optimizer.step()\n",
    "        total_loss += loss.item()\n",
    "    \n",
    "    # return the total to keep track of how you did this time around\n",
    "    return total_loss\n",
    "    "
   ]
  },
  {
   "cell_type": "code",
   "execution_count": 39,
   "metadata": {},
   "outputs": [],
   "source": [
    "config = {\"batch_size\": 4,\n",
    "          \"half_window\": 2,\n",
    "          \"embed_dim\": 25,\n",
    "          \"hidden_dim\": 25,\n",
    "          \"num_classes\": 2,\n",
    "          \"freeze_embeddings\": False,\n",
    "         }\n",
    "learning_rate = .0002\n",
    "num_epochs = 100\n",
    "model = SoftmaxWordWindowClassifier(config, len(word_2_id))\n",
    "optimizer = torch.optim.SGD(model.parameters(), lr=learning_rate)"
   ]
  },
  {
   "cell_type": "code",
   "execution_count": 40,
   "metadata": {},
   "outputs": [],
   "source": [
    "train_loader = torch.utils.data.DataLoader(list(zip(train_sents, train_labels)), \n",
    "                                           batch_size=2, \n",
    "                                           shuffle=True, \n",
    "                                           collate_fn=partial(my_collate, window_size=2, word_2_id=word_2_id))"
   ]
  },
  {
   "cell_type": "code",
   "execution_count": 42,
   "metadata": {},
   "outputs": [
    {
     "name": "stdout",
     "output_type": "stream",
     "text": [
      "[0.1924028843641281, 0.18884288519620895, 0.188210166990757, 0.19048552215099335, 0.18695711344480515, 0.18922215700149536, 0.1857181340456009, 0.18510277569293976, 0.18734800070524216, 0.18388023972511292, 0.1832723766565323, 0.18372344970703125, 0.1848892867565155, 0.18428102135658264, 0.18191734701395035, 0.18132102489471436, 0.1807260662317276, 0.18188177049160004, 0.17852506786584854, 0.18070532381534576, 0.17736760526895523, 0.17953383177518845, 0.17723112553358078, 0.1783786043524742, 0.17508620768785477, 0.17552420496940613, 0.173965185880661, 0.17609982937574387, 0.1738363280892372, 0.17230278253555298, 0.1717531904578209, 0.17386242002248764, 0.17066168785095215, 0.17276545614004135, 0.17221824824810028, 0.1716708168387413, 0.17112867534160614, 0.17058850824832916, 0.16745394468307495, 0.16952123492956161, 0.16640564799308777, 0.1668173298239708, 0.16536860913038254, 0.1648535579442978, 0.16526012122631073, 0.1647486910223961, 0.16423574835062027, 0.1628185734152794, 0.1623162478208542, 0.16432687640190125, 0.16221575438976288, 0.16082100570201874, 0.1603279411792755, 0.1598365604877472, 0.15934818238019943, 0.15886128693819046, 0.15925919264554977, 0.15877368301153183, 0.15986772626638412, 0.15938030928373337, 0.15889780968427658, 0.15685472637414932, 0.15552335232496262, 0.15590988844633102, 0.1554410755634308, 0.15652398765087128, 0.15605471283197403, 0.1540408656001091, 0.1551203802227974, 0.15312213450670242, 0.15183962881565094, 0.1537415087223053, 0.15176230669021606, 0.15283244103193283, 0.15004706382751465, 0.15041640400886536, 0.14916347712278366, 0.148725226521492, 0.14909163117408752, 0.150152537971735, 0.14971208199858665, 0.14778387546539307, 0.14656222611665726, 0.14692505449056625, 0.14571239799261093, 0.14607323706150055, 0.144868865609169, 0.14444980770349503, 0.14480779320001602, 0.14439021795988083, 0.14397337287664413, 0.14355870336294174, 0.144600048661232, 0.14418594166636467, 0.14377272501587868, 0.14191846549510956, 0.14151353389024734, 0.14036575704813004, 0.1421438604593277, 0.1403108611702919, 0.1399122029542923, 0.14094089716672897, 0.13839423656463623, 0.14014757424592972, 0.13834070414304733, 0.1379530429840088, 0.13756770640611649, 0.13858737424016, 0.13608327507972717, 0.13570338487625122, 0.13532621413469315, 0.13566014170646667, 0.13457762449979782, 0.1349099725484848, 0.13383493572473526, 0.13416273146867752, 0.13379257917404175, 0.13479814678430557, 0.13305727392435074, 0.1340595819056034, 0.1316433548927307, 0.13197120279073715, 0.1316109076142311, 0.13125184923410416, 0.13089364767074585, 0.13188429921865463, 0.1295120269060135, 0.12982843816280365, 0.13081647083163261, 0.1304626315832138, 0.13010910898447037, 0.12842854112386703, 0.12808243185281754, 0.12773847579956055, 0.12871702015399933, 0.1264144778251648, 0.12671786546707153, 0.12638141587376595, 0.12604492902755737, 0.12701738253235817, 0.12537868320941925, 0.12504670768976212, 0.12408619001507759, 0.12439007684588432, 0.12406090646982193, 0.12311074510216713, 0.12469450384378433, 0.12246820330619812, 0.12276379764080048, 0.12372156977653503, 0.1215122640132904, 0.12180788442492485, 0.1227622702717781, 0.1211770810186863, 0.12212692573666573, 0.11994437128305435, 0.11963537335395813, 0.12118645384907722, 0.11962336301803589, 0.12056548520922661, 0.11841029301285744, 0.11810759082436562, 0.1183994971215725, 0.11750509589910507, 0.11903118342161179, 0.11690652370452881, 0.1184273362159729, 0.11631408333778381, 0.11601920798420906, 0.11572544276714325, 0.11543383076786995, 0.11572433263063431, 0.11543231457471848, 0.11635414138436317, 0.11485503613948822, 0.11456744372844696, 0.11370887234807014, 0.11342521384358406, 0.11314335092902184, 0.11286250129342079, 0.11315030977129936, 0.11287049576640129, 0.11259140819311142, 0.11349703371524811, 0.11147348582744598, 0.11119859293103218, 0.11092547699809074, 0.11121207475662231, 0.11038137599825859, 0.11066818982362747, 0.11156491190195084, 0.10957393795251846, 0.10986016318202019, 0.10959364101290703, 0.11048385873436928, 0.10906187444925308, 0.10994920507073402, 0.10798937454819679, 0.10942014679312706, 0.10746920853853226, 0.10775352641940117, 0.10863421484827995, 0.10669795796275139, 0.10698020458221436, 0.10672392323613167, 0.1075989119708538, 0.10568211227655411, 0.10708915442228317, 0.10518060997128487, 0.10658108443021774, 0.10520930960774422, 0.10607682168483734, 0.10471297428011894, 0.1055777557194233, 0.10421954095363617, 0.10345550253987312, 0.10373012721538544, 0.10458950325846672, 0.10434504598379135, 0.10300354287028313, 0.10225178301334381, 0.10201310366392136, 0.10228408128023148, 0.10154047980904579, 0.10289792343974113, 0.10107129439711571, 0.10134007036685944, 0.10110554471611977, 0.10195105895400047, 0.10063962638378143, 0.10040814056992531, 0.10125033557415009, 0.09994854405522346, 0.10078814625740051, 0.09949075803160667, 0.09877924248576164, 0.0985545963048935, 0.09881370887160301, 0.09858853742480278, 0.09942064061760902, 0.09919638559222221, 0.0989721342921257, 0.098749078810215, 0.09852684289216995, 0.09830530360341072, 0.09704066067934036, 0.09786352515220642, 0.09660544246435165, 0.09638908132910728, 0.09720921516418457, 0.09699257835745811, 0.09574511274695396, 0.0955311693251133, 0.0953192487359047, 0.09510781988501549, 0.09592088311910629, 0.09468670561909676, 0.09549852460622787, 0.09426992759108543, 0.09361585229635239, 0.09486953914165497, 0.09320647269487381, 0.09300263971090317, 0.0927993506193161, 0.09404582902789116, 0.09384004399180412, 0.0926334597170353, 0.09199424088001251, 0.09323059022426605, 0.09302907064557076, 0.09282714873552322, 0.09262720495462418, 0.09242722392082214, 0.09222838655114174, 0.09061355888843536, 0.09041938185691833, 0.09022557362914085, 0.09003208577632904, 0.0902675911784172, 0.08964899554848671, 0.08945801854133606, 0.08926789090037346, 0.09047329798340797, 0.08888879790902138, 0.08912352472543716, 0.08851274102926254, 0.08971298113465309, 0.08813898265361786, 0.0879538469016552, 0.08776890113949776, 0.0875849798321724, 0.08877484127879143, 0.08858898654580116, 0.08745142817497253, 0.08685463294386864, 0.08708631992340088, 0.08785191178321838, 0.0876687578856945, 0.08654258027672768, 0.08636381104588509, 0.0871247909963131, 0.0856018178164959, 0.08676508441567421, 0.08658633008599281, 0.08507315814495087, 0.0848987065255642, 0.08512362837791443, 0.08587802201509476, 0.08477446436882019, 0.08552665635943413, 0.08442927151918411, 0.08386291936039925, 0.08369209617376328, 0.08483342081308365, 0.08335235342383385, 0.0835743173956871, 0.08301499485969543, 0.08414800465106964, 0.08306742459535599, 0.08290006965398788, 0.08234794810414314, 0.08347133547067642, 0.08240010216832161, 0.08185390383005142, 0.08169038221240044, 0.08280707523226738, 0.08174500614404678, 0.08247722685337067, 0.08231295645236969, 0.08125652000308037, 0.08109530806541443, 0.08093447983264923, 0.08040028437972069, 0.0806148536503315, 0.08008357137441635, 0.0811806283891201, 0.0801384411752224, 0.07961105182766914, 0.07945491373538971, 0.08054419979453087, 0.08038663491606712, 0.08022938296198845, 0.08007198572158813, 0.0790446512401104, 0.07889050617814064, 0.07837511971592903, 0.0785849541425705, 0.07843242958188057, 0.07828009873628616, 0.0789896510541439, 0.07762031257152557, 0.07782741636037827, 0.07853499799966812, 0.07838388532400131, 0.07702482119202614, 0.07723050937056541, 0.07793403416872025, 0.07693406566977501, 0.0776357352733612, 0.07629160955548286, 0.07649458944797516, 0.07600175961852074, 0.07704679667949677, 0.07571328803896904, 0.07557002454996109, 0.07660981640219688, 0.0756281316280365, 0.07514327764511108, 0.0753430500626564, 0.07486041635274887, 0.07471975311636925, 0.07491956651210785, 0.07560802437365055, 0.07430102676153183, 0.07532568834722042, 0.07518451288342476, 0.0738850012421608, 0.07374775409698486, 0.07394449412822723, 0.07462618127465248, 0.07448807917535305, 0.07434950023889542, 0.0733967237174511, 0.07293136417865753, 0.07312546297907829, 0.07299084588885307, 0.07366614602506161, 0.07239589467644691, 0.07258861511945724, 0.07326146028935909, 0.07312689907848835, 0.07186676934361458, 0.07285978645086288, 0.0727270171046257, 0.0714738480746746, 0.07134371623396873, 0.07233122363686562, 0.071404829621315, 0.0720688309520483, 0.07082848623394966, 0.07180867716670036, 0.07057291641831398, 0.0707613043487072, 0.0703192725777626, 0.07129325531423092, 0.07006723433732986, 0.07025353237986565, 0.06981633231043816, 0.06969153136014938, 0.06956684589385986, 0.07053140550851822, 0.06962862238287926, 0.07028023526072502, 0.0690731406211853, 0.0692574605345726, 0.06882907450199127, 0.06978347338736057, 0.06858531013131142, 0.06846430897712708, 0.06941480189561844, 0.06929245218634605, 0.06840580701828003, 0.06904889270663261, 0.06786365434527397, 0.06880743987858295, 0.0679270587861538, 0.06750848516821861, 0.067690659314394, 0.0675724670290947, 0.06821003183722496, 0.06733733788132668, 0.06722041964530945, 0.0678552184253931, 0.06669088080525398, 0.06657534092664719, 0.06646019592881203, 0.06738689355552197, 0.06652521342039108, 0.06611739471554756, 0.06703951023519039, 0.06692489981651306, 0.06606970727443695, 0.06669589318335056, 0.06555276364088058, 0.06573113799095154, 0.06635471992194653, 0.06624120846390724, 0.06612876057624817, 0.0652831457555294, 0.06488522328436375, 0.06506277620792389, 0.06495258212089539, 0.06455674022436142, 0.06444750539958477, 0.06462434306740761, 0.06423068605363369, 0.06412263959646225, 0.06401509046554565, 0.06390734016895294, 0.06380017474293709, 0.06469468213617802, 0.06358684599399567, 0.06447890773415565, 0.06437102518975735, 0.06426377967000008, 0.06415648758411407, 0.06305867433547974, 0.06323159486055374, 0.0628495067358017, 0.06373155117034912, 0.06362595036625862, 0.06281397305428982, 0.06271011382341385, 0.06233187019824982, 0.06320758536458015, 0.06310332380235195, 0.06202446296811104, 0.061922747641801834, 0.06182154454290867, 0.0626913420855999, 0.0625888854265213, 0.061790090054273605, 0.06141882762312889, 0.06228315830230713, 0.06218117102980614, 0.06207940727472305, 0.06102020666003227, 0.061877962201833725, 0.061777254566550255, 0.06167702563107014, 0.060890043154358864, 0.06147799827158451, 0.06069354899227619, 0.06128009781241417, 0.060497915372252464, 0.06040113978087902, 0.06098521128296852, 0.060206735506653786, 0.059851208701729774, 0.06069286912679672, 0.060596441850066185, 0.060499854385852814, 0.05947057716548443, 0.059632960706949234, 0.05928176827728748, 0.060116102918982506, 0.05909414403140545, 0.05992540903389454, 0.05983058735728264, 0.058814141899347305, 0.05897407978773117, 0.05888066999614239, 0.05878768861293793, 0.05844453163444996, 0.05835250951349735, 0.059173163026571274, 0.058418259024620056, 0.05832695588469505, 0.058896174654364586, 0.05789786018431187, 0.05805433727800846, 0.058621205389499664, 0.05787331238389015, 0.057783447206020355, 0.05769364908337593, 0.057360194623470306, 0.057515280321240425, 0.05807831883430481, 0.057988252490758896, 0.057249000295996666, 0.05691856890916824, 0.05772116035223007, 0.05674346722662449, 0.05689810775220394, 0.057456446811556816, 0.05648265406489372, 0.05663648620247841, 0.05719190649688244, 0.056223753839731216, 0.05613799951970577, 0.05605262890458107, 0.05684448219835758, 0.05675787106156349, 0.055797744542360306, 0.05594958737492561, 0.05586482025682926, 0.0557809304445982, 0.055696072056889534, 0.056244682520627975, 0.05552788823843002, 0.05521037615835667, 0.055991169065237045, 0.05527773126959801, 0.055194878950715065, 0.055739641189575195, 0.05502961948513985, 0.05494684912264347, 0.054633159190416336, 0.05478253401815891, 0.05447003245353699, 0.054388878867030144, 0.054308077320456505, 0.05445699766278267, 0.05414679832756519, 0.05406642332673073, 0.05483265779912472, 0.05390654504299164, 0.05382677912712097, 0.05459038354456425, 0.053895289078354836, 0.05381596274673939, 0.054349107667803764, 0.05426931940019131, 0.053352972492575645, 0.05411037430167198, 0.05403139442205429, 0.05334392189979553, 0.05387376807630062, 0.05379481241106987, 0.05310998857021332, 0.05363796651363373, 0.05295542813837528, 0.05287828668951988, 0.05280158668756485, 0.05332716926932335, 0.052427275106310844, 0.052351441234350204, 0.052275653928518295, 0.05301985330879688, 0.05212472192943096, 0.0522699523717165, 0.05219448357820511, 0.05271508730947971, 0.05204465240240097, 0.05256374552845955, 0.052488671615719795, 0.05241362378001213, 0.051529036834836006, 0.051673511043190956, 0.051382290199398994, 0.05152634531259537, 0.05123616009950638, 0.051380742341279984, 0.05189443752169609, 0.05101810023188591, 0.05094575881958008, 0.050873713567852974, 0.05160091444849968, 0.05152806080877781, 0.05087326094508171, 0.05058644711971283, 0.050730057060718536, 0.05044432729482651, 0.0511659849435091, 0.05051596090197563, 0.050444917753338814, 0.05016140267252922, 0.050091417506337166, 0.05023345164954662, 0.04995188117027283, 0.049882372841238976, 0.0498129278421402, 0.049953870475292206, 0.04967440292239189, 0.049815431237220764, 0.049536729231476784, 0.04967750422656536, 0.0493996050208807, 0.04953979142010212, 0.04947134479880333, 0.049195170402526855, 0.04990054853260517, 0.04926658421754837, 0.04899211972951889, 0.04892481304705143, 0.0496263075619936, 0.04879034869372845, 0.04892899841070175, 0.04942245967686176, 0.04935499653220177, 0.04872819967567921, 0.04866163618862629, 0.048595085740089417, 0.048528846353292465, 0.049019500613212585, 0.04839693009853363, 0.04888622276484966, 0.048063695430755615, 0.048200204968452454, 0.047933802008628845, 0.048622239381074905, 0.04800496622920036, 0.047939931973814964, 0.048425549641251564, 0.04761108569800854, 0.0475471056997776, 0.04748326726257801, 0.04816604405641556, 0.047554805874824524, 0.04749121703207493, 0.04797280952334404, 0.047908565029501915, 0.04784432426095009, 0.04778042808175087, 0.04697691462934017, 0.04765320383012295, 0.04685186222195625, 0.047526612877845764, 0.04672767594456673, 0.046665819361805916, 0.04733831249177456, 0.04654250107705593, 0.04667584039270878, 0.046614447608590126, 0.046552861109375954, 0.04702682979404926, 0.046430300921201706, 0.04690343700349331, 0.04684174433350563, 0.046247608959674835, 0.046718940138816833, 0.046657735481858253, 0.046596771106123924, 0.04581373184919357, 0.04575399123132229, 0.04569439962506294, 0.04563474841415882, 0.045575546100735664, 0.04570700414478779, 0.04564765654504299, 0.04539847560226917, 0.04533978924155235, 0.04528088867664337, 0.045935189351439476, 0.045352693647146225, 0.04510548152029514, 0.04575722850859165, 0.04569833353161812, 0.04563962481915951, 0.045580966398119926, 0.04481578804552555, 0.04475831426680088, 0.044700853526592255, 0.04483046382665634, 0.04458661749958992, 0.044715989381074905, 0.0451742485165596, 0.045116664841771126, 0.04454471357166767, 0.04430262930691242, 0.04443134181201458, 0.04488704353570938, 0.044133568182587624, 0.044261861592531204, 0.0442055519670248, 0.043966032564640045, 0.044603221118450165, 0.04403831250965595, 0.04379979521036148, 0.04443456418812275, 0.043871479108929634, 0.044322531670331955, 0.04357974976301193, 0.04370615445077419, 0.04365105926990509, 0.04359639808535576, 0.04354175552725792, 0.0439901165664196, 0.043253106996417046, 0.04387997277081013, 0.043824926018714905, 0.04309128783643246, 0.04321598634123802, 0.043661706149578094, 0.04293079115450382, 0.04305467940866947, 0.04282419756054878, 0.043444959446787834, 0.04339088685810566, 0.042841048911213875, 0.04261261969804764, 0.042735472321510315, 0.04268278926610947, 0.04263021983206272, 0.04240296222269535, 0.04235082305967808, 0.04296484217047691, 0.042420484125614166, 0.04285944066941738, 0.04280691593885422, 0.0420914925634861, 0.042213255539536476, 0.04198879934847355, 0.04211033694446087, 0.04254628159105778, 0.04249430075287819, 0.04195620305836201, 0.04173377715051174, 0.04168303124606609, 0.042288316413760185, 0.042237382382154465, 0.041531531140208244, 0.0416520182043314, 0.04143119975924492, 0.041551388800144196, 0.04133130609989166, 0.04145126789808273, 0.041881807148456573, 0.04183138348162174, 0.04178105294704437, 0.04173073172569275, 0.04120287671685219, 0.04115338623523712, 0.04093556106090546, 0.0415314007550478, 0.04100610874593258, 0.04095723479986191, 0.04074041359126568, 0.040859369561076164, 0.04081064090132713, 0.04076193831861019, 0.04071340151131153, 0.04049851559102535, 0.04061638377606869, 0.04103924706578255, 0.040990352630615234, 0.040306953713297844, 0.040893543511629105, 0.040845103561878204, 0.04032859951257706, 0.04028082638978958, 0.040233341977000237, 0.04065323807299137, 0.03997553512454033, 0.040092259645462036, 0.04051017574965954, 0.040462421253323555, 0.03995062597095966, 0.0403677299618721, 0.03969509154558182, 0.03964861482381821, 0.039763908833265305, 0.03955624811351299, 0.03967142291367054, 0.03946429491043091, 0.03941839002072811, 0.039993034675717354, 0.03994640149176121, 0.039280932396650314, 0.03923540748655796, 0.039189813658595085, 0.03914443589746952, 0.03971613757312298, 0.039054132997989655, 0.03900899365544319, 0.03957872651517391, 0.038918931037187576, 0.03887425363063812, 0.038829581812024117, 0.038944367319345474, 0.03889963589608669, 0.03885490261018276, 0.0388103723526001, 0.039217058569192886, 0.03872142173349857, 0.03851942904293537, 0.03908274322748184, 0.03903808817267418, 0.038993580266833305, 0.038949329406023026, 0.038457268849015236, 0.03841331787407398, 0.03881661966443062, 0.03877248242497444, 0.03872871212661266, 0.03823941573500633, 0.03819604963064194, 0.03859722428023815, 0.03795502334833145, 0.03791219741106033, 0.0378696545958519, 0.03842361085116863, 0.037784360349178314, 0.03789560869336128, 0.038294343277812004, 0.03781056962907314, 0.03761505149304867, 0.03772599250078201, 0.03768392652273178, 0.038080403581261635, 0.038037847727537155, 0.037995380349457264, 0.03751557692885399, 0.037321802228689194, 0.03786859102547169, 0.037390345707535744, 0.03734873794019222, 0.03730723448097706, 0.037700523622334, 0.037073977291584015, 0.037032872438430786, 0.03714235685765743, 0.03710154630243778, 0.037492796778678894, 0.03745137434452772, 0.036828869953751564, 0.03693793714046478, 0.036897264420986176, 0.037286875769495964, 0.03681618347764015, 0.03720503579825163, 0.03673533536493778, 0.037123316898941994, 0.03665485233068466, 0.036467019468545914, 0.03642711974680424, 0.036961378529667854, 0.036347800865769386, 0.03645484708249569, 0.0364150982350111, 0.036375489085912704, 0.0363360159099102, 0.03629651665687561, 0.03625699318945408, 0.036217616870999336, 0.036601100116968155, 0.036561137065291405, 0.036099666729569435, 0.0359166394919157, 0.03587786853313446, 0.03598270006477833, 0.03636439051479101, 0.03590546362102032, 0.03572378680109978, 0.03624746575951576, 0.03620860446244478, 0.03560870327055454, 0.03613071236759424, 0.03609208669513464, 0.03563648462295532, 0.036014788784086704, 0.03556033596396446, 0.03593798540532589, 0.03548430651426315, 0.03586124163120985, 0.03540873900055885, 0.03537091426551342, 0.03533343970775604, 0.0352959930896759, 0.03525869734585285, 0.035221535712480545, 0.03559608105570078, 0.035558415576815605, 0.03552073519676924, 0.035072680562734604, 0.03503561019897461, 0.03540838323533535, 0.03482192941009998, 0.03492485173046589, 0.034887947142124176, 0.03485136106610298, 0.03467581793665886, 0.03477835655212402, 0.03460315614938736, 0.03511196468025446, 0.03507496975362301, 0.034632500261068344, 0.034458303824067116, 0.03442232310771942, 0.034386418759822845, 0.03448799066245556, 0.034452049061656, 0.03427892550826073, 0.03438052162528038, 0.03420778177678585, 0.034711127169430256, 0.03413679264485836, 0.03463902696967125, 0.03406604193150997, 0.03403065726161003, 0.03399549424648285, 0.034095995128154755, 0.033925194293260574, 0.03402558155357838, 0.034389007836580276, 0.03435363993048668, 0.03431818075478077, 0.033885419368743896, 0.03424753900617361, 0.03368149511516094, 0.03364693187177181, 0.033746546134352684, 0.03410731069743633, 0.034072645008563995, 0.03403780609369278, 0.03360862843692303, 0.033441102132201195, 0.033540014177560806, 0.033373039215803146, 0.03333904966711998, 0.03383021987974644, 0.03327140398323536, 0.033761695958673954, 0.033727340400218964, 0.03317038342356682, 0.03326847776770592, 0.03310324810445309, 0.033069826662540436, 0.033167535439133644, 0.03352318797260523, 0.033100493252277374, 0.03293661028146744, 0.03303391486406326, 0.032870398834347725, 0.03283737041056156, 0.032934462651610374, 0.03277141787111759, 0.033254741691052914, 0.032835667952895164, 0.03280274569988251, 0.03315509110689163, 0.032737281173467636, 0.03270449489355087, 0.032542552798986435, 0.03263924829661846, 0.03298985492438078, 0.032956953160464764, 0.03241293132305145, 0.032380676828324795, 0.03285873495042324, 0.03244466707110405, 0.03241237252950668, 0.032252040691673756, 0.032348087057471275, 0.032188097946345806, 0.032663594000041485, 0.0322521710768342, 0.03222039993852377, 0.032188535667955875, 0.03215667884796858]\n"
     ]
    }
   ],
   "source": [
    "losses = []\n",
    "for epoch in range(num_epochs):\n",
    "    epoch_loss = train_epoch(loss_function, optimizer, model, train_loader)\n",
    "    if epoch % 10 == 0:\n",
    "        losses.append(epoch_loss)\n",
    "print(losses)"
   ]
  },
  {
   "cell_type": "markdown",
   "metadata": {},
   "source": [
    "### Prediction."
   ]
  },
  {
   "cell_type": "code",
   "execution_count": 43,
   "metadata": {},
   "outputs": [],
   "source": [
    "test_loader = torch.utils.data.DataLoader(list(zip(test_sents, test_labels)), \n",
    "                                           batch_size=1, \n",
    "                                           shuffle=False, \n",
    "                                           collate_fn=partial(my_collate, window_size=2, word_2_id=word_2_id))"
   ]
  },
  {
   "cell_type": "code",
   "execution_count": 44,
   "metadata": {},
   "outputs": [
    {
     "name": "stdout",
     "output_type": "stream",
     "text": [
      "tensor([[0, 0, 0, 1]])\n",
      "tensor([[0, 0, 0, 1]])\n"
     ]
    }
   ],
   "source": [
    "for test_instance, labs, _ in test_loader:\n",
    "    outputs = model.forward(test_instance)\n",
    "    print(torch.argmax(outputs, dim=2))\n",
    "    print(torch.argmax(labs, dim=2))"
   ]
  },
  {
   "cell_type": "code",
   "execution_count": null,
   "metadata": {},
   "outputs": [],
   "source": []
  }
 ],
 "metadata": {
  "kernelspec": {
   "display_name": "Python 3",
   "language": "python",
   "name": "python3"
  },
  "language_info": {
   "codemirror_mode": {
    "name": "ipython",
    "version": 3
   },
   "file_extension": ".py",
   "mimetype": "text/x-python",
   "name": "python",
   "nbconvert_exporter": "python",
   "pygments_lexer": "ipython3",
   "version": "3.6.9"
  }
 },
 "nbformat": 4,
 "nbformat_minor": 4
}
