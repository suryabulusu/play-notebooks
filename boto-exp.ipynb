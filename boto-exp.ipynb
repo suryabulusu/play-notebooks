{
 "cells": [
  {
   "cell_type": "code",
   "execution_count": 7,
   "metadata": {},
   "outputs": [],
   "source": [
    "import os\n",
    "import boto3\n",
    "\n",
    "session = boto3.Session(aws_access_key_id = os.environ[\"AWS_ACCESS_KEY_ID\"], \n",
    "                   aws_secret_access_key = os.environ[\"AWS_SECRET_ACCESS_KEY\"],\n",
    "                       aws_session_token = os.environ[\"AWS_SESSION_TOKEN\"])"
   ]
  },
  {
   "cell_type": "code",
   "execution_count": 8,
   "metadata": {},
   "outputs": [],
   "source": [
    "s3 = session.client(\"s3\")"
   ]
  },
  {
   "cell_type": "code",
   "execution_count": 11,
   "metadata": {},
   "outputs": [],
   "source": [
    "import threading"
   ]
  },
  {
   "cell_type": "code",
   "execution_count": 19,
   "metadata": {},
   "outputs": [],
   "source": [
    "MY_BUCKET = \"surbv-data-store\"\n",
    "\n",
    "filenames = []\n",
    "for obj in s3.list_objects(Bucket = MY_BUCKET, Prefix = \"human_eval_files\")[\"Contents\"]:\n",
    "    filenames.append(obj[\"Key\"])"
   ]
  },
  {
   "cell_type": "code",
   "execution_count": 25,
   "metadata": {},
   "outputs": [],
   "source": [
    "OUTPUT_DIR = \"human_eval_download\""
   ]
  },
  {
   "cell_type": "code",
   "execution_count": 22,
   "metadata": {},
   "outputs": [],
   "source": [
    "from tqdm import tqdm"
   ]
  },
  {
   "cell_type": "code",
   "execution_count": 28,
   "metadata": {},
   "outputs": [
    {
     "name": "stderr",
     "output_type": "stream",
     "text": [
      "100%|████████████████████████████████████████████████████████████████████████████████████████████████████████| 210/210 [02:59<00:00,  1.17it/s]\n"
     ]
    }
   ],
   "source": [
    "# suppose i want to download them at once\n",
    "\n",
    "def download_one_file(bucket, output, client, s3_file):\n",
    "    client.download_file(\n",
    "    Bucket = bucket, Key = s3_file, Filename = os.path.join(output, s3_file.split(\"/\")[1])\n",
    "    )\n",
    "    # splitting s3_file so that the folder name \"human_eval_files\" doesn't come in saved filename\n",
    "    \n",
    "\n",
    "for file in tqdm(filenames):\n",
    "    if \".ipynb\" in file: continue\n",
    "    download_one_file(MY_BUCKET, OUTPUT_DIR, s3, file)"
   ]
  },
  {
   "cell_type": "code",
   "execution_count": 29,
   "metadata": {},
   "outputs": [],
   "source": [
    "# it took me ___ minutes\n",
    "# now -- i'll speed up with threading\n",
    "\n",
    "from concurrent.futures import ThreadPoolExecutor, as_completed\n",
    "from functools import partial"
   ]
  },
  {
   "cell_type": "code",
   "execution_count": 31,
   "metadata": {},
   "outputs": [],
   "source": [
    "download_one_file_partial = partial(download_one_file, MY_BUCKET, OUTPUT_DIR, s3)"
   ]
  },
  {
   "cell_type": "code",
   "execution_count": 35,
   "metadata": {},
   "outputs": [
    {
     "name": "stdout",
     "output_type": "stream",
     "text": [
      "done in : 11.315793991088867\n"
     ]
    }
   ],
   "source": [
    "import time\n",
    "stime = time.time()\n",
    "failed_downloads = []\n",
    "with ThreadPoolExecutor(max_workers = 16) as executor:\n",
    "    futures = {\n",
    "        executor.submit(download_one_file_partial, file): file\n",
    "        for file in filenames\n",
    "    }\n",
    "    for future in as_completed(futures):\n",
    "        if future.exception():\n",
    "            # not downloaded well\n",
    "            failed_downloads.append(futures[future])\n",
    "        \n",
    "etime = time.time()\n",
    "\n",
    "print(\"done in :\", etime - stime)"
   ]
  }
 ],
 "metadata": {
  "kernelspec": {
   "display_name": "Python 3 (ipykernel)",
   "language": "python",
   "name": "python3"
  },
  "language_info": {
   "codemirror_mode": {
    "name": "ipython",
    "version": 3
   },
   "file_extension": ".py",
   "mimetype": "text/x-python",
   "name": "python",
   "nbconvert_exporter": "python",
   "pygments_lexer": "ipython3",
   "version": "3.7.12"
  }
 },
 "nbformat": 4,
 "nbformat_minor": 4
}
