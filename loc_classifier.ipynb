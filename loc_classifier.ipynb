{
 "cells": [
  {
   "cell_type": "code",
   "execution_count": 6,
   "metadata": {},
   "outputs": [],
   "source": [
    "train_sents = [s.lower().split() for s in [\"we 'll always have Paris\", \n",
    "                                           \"I live in Germany\",\n",
    "                                           \"He comes from Denmark\",\n",
    "                                           \"The capital of Denmark is Copenhagen\"]]\n",
    "\n",
    "train_labels = [[0, 0, 0, 0, 1],\n",
    "                [0, 0, 0, 1],\n",
    "                [0, 0, 0, 1],\n",
    "                [0, 0, 0, 1, 0, 1]]\n",
    "\n",
    "assert all(len(train_sents[i]) == len(train_labels[i]) for i in range(len(train_sents)))"
   ]
  },
  {
   "cell_type": "code",
   "execution_count": 7,
   "metadata": {},
   "outputs": [],
   "source": [
    "test_sents = [s.lower().split() for s in [\"She comes from Paris\"]]\n",
    "test_labels = [[0, 0, 0, 1]]\n",
    "\n",
    "assert all([len(test_sents[i]) == len(test_labels[i]) for i in range(len(test_sents))])"
   ]
  },
  {
   "cell_type": "code",
   "execution_count": 8,
   "metadata": {},
   "outputs": [],
   "source": [
    "id_2_word = [\"<pad>\", \"<unk>\", \"we\", \"always\", \"have\", \"paris\",\n",
    "             \"i\", \"live\", \"in\", \"germany\",\n",
    "             \"he\", \"comes\", \"from\", \"denmark\",\n",
    "             \"the\", \"of\", \"is\", \"copenhagen\"]\n",
    "\n",
    "word_2_id = {w:i for i, w in enumerate(id_2_word)}"
   ]
  },
  {
   "cell_type": "code",
   "execution_count": 9,
   "metadata": {},
   "outputs": [],
   "source": [
    "def convert_tokens_to_ids(sentence, word_2_id):\n",
    "    return [word_2_id.get(token, word_2_id[\"<unk>\"]) for token in sentence]"
   ]
  },
  {
   "cell_type": "code",
   "execution_count": 10,
   "metadata": {},
   "outputs": [],
   "source": [
    "def pad_sentence_for_window(sentence, window_size, pad_token = \"<pad>\"):\n",
    "    return [pad_token]*window_size + sentence + [pad_token]*window_size"
   ]
  },
  {
   "cell_type": "code",
   "execution_count": 12,
   "metadata": {},
   "outputs": [
    {
     "name": "stdout",
     "output_type": "stream",
     "text": [
      "['<pad>', '<pad>', 'we', '<unk>', 'always', 'have', 'paris', '<pad>', '<pad>']\n",
      "['<pad>', '<pad>', 'i', 'live', 'in', 'germany', '<pad>', '<pad>']\n",
      "['<pad>', '<pad>', 'he', 'comes', 'from', 'denmark', '<pad>', '<pad>']\n",
      "['<pad>', '<pad>', 'the', '<unk>', 'of', 'denmark', 'is', 'copenhagen', '<pad>', '<pad>']\n"
     ]
    }
   ],
   "source": [
    "window_size = 2\n",
    "\n",
    "for sent in train_sents:\n",
    "    tok_idxs = convert_tokens_to_ids(pad_sentence_for_window(sent, window_size), word_2_id)\n",
    "    print([id_2_word[i] for i in tok_idxs])"
   ]
  },
  {
   "cell_type": "code",
   "execution_count": 13,
   "metadata": {},
   "outputs": [],
   "source": [
    "import pprint\n",
    "pp = pprint.PrettyPrinter()"
   ]
  },
  {
   "cell_type": "code",
   "execution_count": 14,
   "metadata": {},
   "outputs": [],
   "source": [
    "import torch"
   ]
  },
  {
   "cell_type": "code",
   "execution_count": 16,
   "metadata": {},
   "outputs": [
    {
     "name": "stdout",
     "output_type": "stream",
     "text": [
      "('raw label', tensor([0, 0, 0, 0, 1]))\n",
      "torch.Size([5])\n"
     ]
    }
   ],
   "source": [
    "l = torch.LongTensor(train_labels[0])\n",
    "pp.pprint((\"raw label\", l))\n",
    "print(l.size())"
   ]
  },
  {
   "cell_type": "code",
   "execution_count": 19,
   "metadata": {},
   "outputs": [],
   "source": [
    "from torch.utils.data import DataLoader\n",
    "from functools import partial\n",
    "import torch.nn as nn"
   ]
  },
  {
   "cell_type": "code",
   "execution_count": 32,
   "metadata": {},
   "outputs": [],
   "source": [
    "def my_collate(data, window_size, word_2_id):\n",
    "    \n",
    "    x_s, y_s = zip(*data)\n",
    "    \n",
    "    window_padded = [convert_tokens_to_ids(pad_sentence_for_window(sent, window_size), word_2_id) \n",
    "                     for sent in x_s]\n",
    "    \n",
    "    padded = nn.utils.rnn.pad_sequence([torch.LongTensor(t) for t in window_padded], batch_first = True)\n",
    "    \n",
    "    labels = []\n",
    "    lengths = []\n",
    "    for y in y_s:\n",
    "        lengths.append(len(y))\n",
    "        label = torch.zeros((len(y), 2))\n",
    "        true = torch.LongTensor(y) # [1, 0, 0]\n",
    "        false = ~true.bool() # [0, 1, 1]\n",
    "        label[:, 0] = false\n",
    "        label[:, 1] = true\n",
    "        labels.append(label)\n",
    "    padded_labels = nn.utils.rnn.pad_sequence(labels, batch_first = True)\n",
    "    \n",
    "    return padded.long(), padded_labels, torch.LongTensor(lengths)"
   ]
  },
  {
   "cell_type": "code",
   "execution_count": 33,
   "metadata": {},
   "outputs": [],
   "source": [
    "example_loader = DataLoader(list(zip(train_sents, train_labels)),\n",
    "                            batch_size = 2,\n",
    "                            shuffle = True,\n",
    "                            collate_fn = partial(my_collate, window_size = 2, word_2_id = word_2_id))\n",
    "\n",
    "# partial coz data given via dataloader formulation"
   ]
  },
  {
   "cell_type": "code",
   "execution_count": 34,
   "metadata": {},
   "outputs": [
    {
     "name": "stdout",
     "output_type": "stream",
     "text": [
      "('inputs',\n",
      " tensor([[0, 0, 2, 1, 3, 4, 5, 0, 0],\n",
      "        [0, 0, 6, 7, 8, 9, 0, 0, 0]]),\n",
      " torch.Size([2, 9]))\n",
      "('labels',\n",
      " tensor([[[1., 0.],\n",
      "         [1., 0.],\n",
      "         [1., 0.],\n",
      "         [1., 0.],\n",
      "         [0., 1.]],\n",
      "\n",
      "        [[1., 0.],\n",
      "         [1., 0.],\n",
      "         [1., 0.],\n",
      "         [0., 1.],\n",
      "         [0., 0.]]]),\n",
      " torch.Size([2, 5, 2]))\n",
      "('lengths', tensor([5, 4]))\n"
     ]
    }
   ],
   "source": [
    "for batched_input, batched_labels, batch_lengths in example_loader:\n",
    "    pp.pprint((\"inputs\", batched_input, batched_input.size()))\n",
    "    pp.pprint((\"labels\", batched_labels, batched_labels.size()))\n",
    "    pp.pprint((\"lengths\", batch_lengths))\n",
    "    break # coz this keeps on happening"
   ]
  },
  {
   "cell_type": "code",
   "execution_count": 42,
   "metadata": {},
   "outputs": [
    {
     "name": "stdout",
     "output_type": "stream",
     "text": [
      "tensor([[0, 0, 1, 2, 3, 4, 0, 0],\n",
      "        [0, 0, 5, 6, 7, 8, 0, 0]])\n",
      "tensor([[[0, 0, 1, 2, 3],\n",
      "         [0, 1, 2, 3, 4],\n",
      "         [1, 2, 3, 4, 0],\n",
      "         [2, 3, 4, 0, 0]],\n",
      "\n",
      "        [[0, 0, 5, 6, 7],\n",
      "         [0, 5, 6, 7, 8],\n",
      "         [5, 6, 7, 8, 0],\n",
      "         [6, 7, 8, 0, 0]]])\n"
     ]
    }
   ],
   "source": [
    "# now, we'd like to create context words + center word type vector\n",
    "# for each B, for each word in sent of length L, need a 2m+1 vec\n",
    "# => tensor of size (B, L, 2*m+1)\n",
    "\n",
    "dummy_input = torch.zeros((2, 8)).long()\n",
    "dummy_input[:, 2:-2] = torch.arange(1, 9).view(2, 4) # reshape \n",
    "pp.pprint(dummy_input)\n",
    "\n",
    "dummy_output = [[[dummy_input[b, l -2 + k]\n",
    "                for k in range(2*2 + 1)]\n",
    "                for l in range(2, 6)]\n",
    "                for b in range(2)]\n",
    "\n",
    "dummy_output = torch.LongTensor(dummy_output)\n",
    "pp.pprint(dummy_output)"
   ]
  },
  {
   "cell_type": "code",
   "execution_count": 43,
   "metadata": {},
   "outputs": [
    {
     "data": {
      "text/plain": [
       "tensor([[[0, 0, 1, 2, 3],\n",
       "         [0, 1, 2, 3, 4],\n",
       "         [1, 2, 3, 4, 0],\n",
       "         [2, 3, 4, 0, 0]],\n",
       "\n",
       "        [[0, 0, 5, 6, 7],\n",
       "         [0, 5, 6, 7, 8],\n",
       "         [5, 6, 7, 8, 0],\n",
       "         [6, 7, 8, 0, 0]]])"
      ]
     },
     "execution_count": 43,
     "metadata": {},
     "output_type": "execute_result"
    }
   ],
   "source": [
    "dummy_input.unfold(1, 2*2 + 1, 1)"
   ]
  },
  {
   "cell_type": "code",
   "execution_count": 45,
   "metadata": {},
   "outputs": [],
   "source": [
    "class SoftmaxWordWindowClassifier(nn.Module):\n",
    "    \n",
    "    def __init__(self, config, vocab_size, pad_idx = 0):\n",
    "        super(SoftmaxWordWindowClassifier, self).__init__()\n",
    "        \n",
    "        self.window_size = 2 * config[\"half_window\"] + 1\n",
    "        self.embed_dim = config[\"embed_dim\"]\n",
    "        self.hidden_dim = config[\"hidden_dim\"]\n",
    "        self.num_classes = config[\"num_classes\"]\n",
    "        self.freeze_embeddings = config[\"freeze_embeddings\"]\n",
    "        \n",
    "        self.embed_layer = nn.Embedding(vocab_size, self.embed_dim, padding_idx = pad_idx)\n",
    "        if self.freeze_embeddings:\n",
    "            self.embed_layer.weight.requires_grad = False\n",
    "            \n",
    "        self.hidden_layer = nn.Sequential(nn.Linear(self.window_size * self.embed_dim, self.hidden_dim),\n",
    "                                          nn.Tanh())\n",
    "        \n",
    "        self.output_layer = nn.Linear(self.hidden_dim, self.num_classes)\n",
    "        \n",
    "        self.log_softmax = nn.LogSoftmax(dim = 2) # better computation\n",
    "    \n",
    "    def forward(self, inputs):\n",
    "        \"\"\"\n",
    "        Let B := batch_size\n",
    "            L := window-padded sentence length\n",
    "            D := self.embed_dim\n",
    "            S := self.window_size = 2*m + 1\n",
    "            H := self.hidden_dim\n",
    "        \n",
    "        inputs: (B, L) tensor of token indices\n",
    "        \"\"\"\n",
    "        B, L = inputs.size()\n",
    "        \n",
    "        token_windows = inputs.unfold(1, self.window_size, 1)\n",
    "        _, adjusted_length, _ = token_windows.size()\n",
    "        \n",
    "        # do sanity checks\n",
    "        assert token_windows.size() == (B, adjusted_length, self.window_size)\n",
    "        \n",
    "        \"\"\"\n",
    "        Embedding\n",
    "        Takes in a torch.LongTensor of size (B, L~, S)\n",
    "        Outputs a (B, L~, S*D) FloatTensor\n",
    "        \"\"\"\n",
    "        embedded_windows = self.embed_layer(token_windows) # (B, L~, S, D)\n",
    "        \n",
    "        embedded_windows = embedded_windows.view(B, adjusted_length, -1) \n",
    "        # -1 => whatever is left over\n",
    "        \n",
    "        \"\"\"\n",
    "        Hidden Layer\n",
    "        Takes in (B, L~, S*D) FloatTensor\n",
    "        Outputs a (B, L~, H) FloatTensor\n",
    "        \"\"\"\n",
    "        layer_1 = self.hidden_layer(embedded_windows)\n",
    "        \n",
    "        \"\"\"\n",
    "        Ouptut Layer\n",
    "        Takes in (B, L~, H) FloatTensor\n",
    "        Outputs a (B, L~, num_classes) FloatTensor\n",
    "        \"\"\"\n",
    "        layer_2 = self.output_layer(layer_1)\n",
    "        \n",
    "        \"\"\"\n",
    "        Softmax Layer\n",
    "        Outputs log-normalized scores\n",
    "        \"\"\"\n",
    "        output = self.log_softmax(layer_2)\n",
    "        \n",
    "        return output"
   ]
  },
  {
   "cell_type": "code",
   "execution_count": 52,
   "metadata": {},
   "outputs": [],
   "source": [
    "config = {\"batch_size\": 4,\n",
    "          \"half_window\": 2,\n",
    "          \"embed_dim\": 25,\n",
    "          \"hidden_dim\": 25,\n",
    "          \"num_classes\": 2,\n",
    "          \"freeze_embeddings\": False,\n",
    "         }\n",
    "\n",
    "learning_rate = 0.0002\n",
    "num_epochs = 10000\n",
    "model = SoftmaxWordWindowClassifier(config, len(word_2_id))\n",
    "# pad_idx given to be 0 already\n",
    "optimizer = torch.optim.SGD(model.parameters(), lr = learning_rate)"
   ]
  },
  {
   "cell_type": "code",
   "execution_count": 53,
   "metadata": {},
   "outputs": [],
   "source": [
    "def loss_function(outputs, labels, lengths):\n",
    "    \n",
    "    B, L, num_classes = outputs.size()\n",
    "    num_elems = lengths.sum().float() # from dataloader\n",
    "    \n",
    "    loss = outputs * labels # only at non zero labels?!\n",
    "    \n",
    "    return -loss.sum() / num_elems"
   ]
  },
  {
   "cell_type": "code",
   "execution_count": 54,
   "metadata": {},
   "outputs": [],
   "source": [
    "def train_epoch(loss_function, optimizer, model, train_data):\n",
    "    \n",
    "    total_loss = 0\n",
    "    for batch, labels, lengths in train_data:\n",
    "        # clear grads\n",
    "        optimizer.zero_grad()\n",
    "        outputs = model.forward(batch)\n",
    "        loss = loss_function(outputs, labels, lengths)\n",
    "        # pass grads backward\n",
    "        loss.backward()\n",
    "        # update params\n",
    "        optimizer.step()\n",
    "        total_loss += loss.item()\n",
    "        \n",
    "    return total_loss"
   ]
  },
  {
   "cell_type": "code",
   "execution_count": 55,
   "metadata": {},
   "outputs": [],
   "source": [
    "train_loader = torch.utils.data.DataLoader(list(zip(train_sents, train_labels)),\n",
    "                                           batch_size = 2,\n",
    "                                           shuffle = True,\n",
    "                                           collate_fn = partial(my_collate, window_size = 2, word_2_id = word_2_id))"
   ]
  },
  {
   "cell_type": "code",
   "execution_count": null,
   "metadata": {},
   "outputs": [],
   "source": [
    "losses = []\n",
    "\n",
    "for epoch in range(num_epochs):\n",
    "    epoch_loss = train_epoch(loss_function, optimizer, model, train_loader)\n",
    "    if epoch % 100 == 0:\n",
    "        #print(\"EPOCH --\", epoch)\n",
    "        losses.append(epoch_loss)\n",
    "        \n",
    "print(losses)"
   ]
  },
  {
   "cell_type": "code",
   "execution_count": 62,
   "metadata": {},
   "outputs": [
    {
     "data": {
      "image/png": "[encoded data removed]",
      "text/plain": [
       "<Figure size 432x288 with 1 Axes>"
      ]
     },
     "metadata": {
      "needs_background": "light"
     },
     "output_type": "display_data"
    }
   ],
   "source": [
    "import matplotlib.pyplot as plt\n",
    "\n",
    "plt.plot(range(len(losses)), losses, \"x-\")\n",
    "plt.show()"
   ]
  },
  {
   "cell_type": "code",
   "execution_count": 57,
   "metadata": {},
   "outputs": [],
   "source": [
    "test_loader = torch.utils.data.DataLoader(list(zip(test_sents, test_labels)), \n",
    "                                           batch_size=1, \n",
    "                                           shuffle=False, \n",
    "                                           collate_fn=partial(my_collate, window_size=2, word_2_id=word_2_id))"
   ]
  },
  {
   "cell_type": "code",
   "execution_count": 59,
   "metadata": {},
   "outputs": [
    {
     "name": "stdout",
     "output_type": "stream",
     "text": [
      "tensor([[[-0.0454, -3.1151],\n",
      "         [-0.0482, -3.0568],\n",
      "         [-0.1176, -2.1991],\n",
      "         [-3.2123, -0.0411]]], grad_fn=<LogSoftmaxBackward>)\n"
     ]
    }
   ],
   "source": [
    "for test_instance, labs, _ in test_loader:\n",
    "    outputs = model.forward(test_instance)\n",
    "    print(outputs)\n",
    "#     print(torch.argmax(outputs, dim=2))\n",
    "#     print(torch.argmax(labs, dim=2))"
   ]
  }
 ],
 "metadata": {
  "kernelspec": {
   "display_name": "Python 3",
   "language": "python",
   "name": "python3"
  },
  "language_info": {
   "codemirror_mode": {
    "name": "ipython",
    "version": 3
   },
   "file_extension": ".py",
   "mimetype": "text/x-python",
   "name": "python",
   "nbconvert_exporter": "python",
   "pygments_lexer": "ipython3",
   "version": "3.6.9"
  }
 },
 "nbformat": 4,
 "nbformat_minor": 4
}
