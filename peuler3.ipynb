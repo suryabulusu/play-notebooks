{
 "cells": [
  {
   "cell_type": "code",
   "execution_count": 2,
   "metadata": {},
   "outputs": [],
   "source": [
    "import itertools as it\n",
    "import time"
   ]
  },
  {
   "cell_type": "code",
   "execution_count": 3,
   "metadata": {},
   "outputs": [
    {
     "name": "stdout",
     "output_type": "stream",
     "text": [
      "[1, 2, 3]\n",
      "[1, 2]\n",
      "[1, 3]\n",
      "[1]\n",
      "[2, 3]\n",
      "[2]\n",
      "[3]\n",
      "[]\n"
     ]
    }
   ],
   "source": [
    "# generating subsets\n",
    "subset = []\n",
    "n = 3\n",
    "def search(k):\n",
    "    if k == n + 1:\n",
    "        print(subset)\n",
    "    else:\n",
    "        subset.append(k)\n",
    "        search(k+1)\n",
    "        del subset[-1]\n",
    "        search(k+1)\n",
    "\n",
    "search(1)"
   ]
  },
  {
   "cell_type": "code",
   "execution_count": 30,
   "metadata": {},
   "outputs": [
    {
     "name": "stdout",
     "output_type": "stream",
     "text": [
      "[1, 2, 3]\n",
      "[1, 3, 2]\n",
      "[2, 1, 3]\n",
      "[2, 3, 1]\n",
      "[3, 1, 2]\n",
      "[3, 2, 1]\n"
     ]
    }
   ],
   "source": [
    "# generate permutations\n",
    "permu = []\n",
    "n = 3\n",
    "\n",
    "def perm(a):\n",
    "    global permu\n",
    "    if len(a) == 0:\n",
    "        print(permu)\n",
    "    else:\n",
    "        for i in range(len(a)):\n",
    "            permu.append(a[0])\n",
    "            perm(a[1:])\n",
    "            permu = permu[:n-len(a)]\n",
    "            if i < len(a)-1: a[i+1], a[0] = a[0], a[i+1]\n",
    "        \n",
    "perm(list(range(1, n+1)))"
   ]
  },
  {
   "cell_type": "code",
   "execution_count": 33,
   "metadata": {},
   "outputs": [
    {
     "name": "stdout",
     "output_type": "stream",
     "text": [
      "[1, 2, 3]\n",
      "[1, 3, 2]\n",
      "[2, 1, 3]\n",
      "[2, 3, 1]\n",
      "[3, 1, 2]\n",
      "[3, 2, 1]\n"
     ]
    }
   ],
   "source": [
    "# generate permu\n",
    "perm = []\n",
    "n = 3\n",
    "chosen = [False]*n\n",
    "def search():\n",
    "    if len(perm) == n:\n",
    "        print(perm)\n",
    "    else:\n",
    "        for i in range(n):\n",
    "            if chosen[i] : continue\n",
    "            chosen[i] = True\n",
    "            perm.append(i+1)\n",
    "            search()\n",
    "            chosen[i] = False\n",
    "            del perm[-1]\n",
    "            \n",
    "search()"
   ]
  },
  {
   "cell_type": "code",
   "execution_count": 45,
   "metadata": {},
   "outputs": [
    {
     "name": "stdout",
     "output_type": "stream",
     "text": [
      "0b0\n",
      "0b1\n",
      "0b1000\n",
      "0b1001\n",
      "0b10000\n",
      "0b10001\n",
      "0b11000\n",
      "0b11001\n"
     ]
    }
   ],
   "source": [
    "# bit set representation\n",
    "x = 0\n",
    "x = (1 << 0) | (1 << 3) | (1 << 4)\n",
    "b = 0\n",
    "while True:\n",
    "    print(bin(b))\n",
    "    b = (b-x)&x\n",
    "    if b == 0: break"
   ]
  },
  {
   "cell_type": "markdown",
   "metadata": {},
   "source": [
    "*****\n",
    "Problem 345"
   ]
  },
  {
   "cell_type": "code",
   "execution_count": 117,
   "metadata": {},
   "outputs": [
    {
     "name": "stdout",
     "output_type": "stream",
     "text": [
      "13938\n"
     ]
    }
   ],
   "source": [
    "# trying out all possible paths... can't code hungarian sorry\n",
    "matrix = \"7  53 183 439 863 497 383 563  79 973 287  63 343 169 583 627 343 773 959 943 767 473 103 699 303 957 703 583 639 913 447 283 463  29  23 487 463 993 119 883 327 493 423 159 743 217 623   3 399 853 407 103 983  89 463 290 516 212 462 350 960 376 682 962 300 780 486 502 912 800 250 346 172 812 350 870 456 192 162 593 473 915  45 989 873 823 965 425 329 803 973 965 905 919 133 673 665 235 509 613 673 815 165 992 326 322 148 972 962 286 255 941 541 265 323 925 281 601  95 973 445 721  11 525 473  65 511 164 138 672  18 428 154 448 848 414 456 310 312 798 104 566 520 302 248 694 976 430 392 198 184 829 373 181 631 101 969 613 840 740 778 458 284 760 390 821 461 843 513  17 901 711 993 293 157 274  94 192 156 574 34 124   4 878 450 476 712 914 838 669 875 299 823 329 699 815 559 813 459 522 788 168 586 966 232 308 833 251 631 107 813 883 451 509 615  77 281 613 459 205 380 274 302  35 805\"\n",
    "#matrix = \"7  53 183 439 863 497 383 563 79 973 287 63 343 169 583 627 343 773 959 943 767 473 103 699 303\"\n",
    "matrix = matrix.split(\" \")\n",
    "matrix = [int(s) for s in matrix if s != \"\"]\n",
    "shape = int(len(matrix)**(1/2))\n",
    "mat = [[matrix[shape*i + j] for j in range(shape)] for i in range(shape)]\n",
    "\n",
    "def search(row = 0, sumval = 0, atleast = 0, colmask = 0):\n",
    "    if row == shape:\n",
    "        return sumval\n",
    "    \n",
    "    if maxrem[row] + sumval <= atleast:\n",
    "        # no point in searching further, this path futile\n",
    "        return 0\n",
    "    \n",
    "    for col in range(shape):\n",
    "        mask = 1 << col\n",
    "        if colmask & mask != 0: continue\n",
    "        \n",
    "        current = search(row + 1, sumval + mat[row][col], atleast, colmask | mask)\n",
    "        if current > atleast: \n",
    "            atleast = current\n",
    "        #print(row, col, atleast)\n",
    "        \n",
    "    return atleast\n",
    "\n",
    "maxrem = [max(mat[i]) for i in range(shape)]\n",
    "maxrem = list(it.accumulate(maxrem[::-1]))[::-1]\n",
    "print(search())"
   ]
  },
  {
   "cell_type": "code",
   "execution_count": null,
   "metadata": {},
   "outputs": [],
   "source": []
  }
 ],
 "metadata": {
  "kernelspec": {
   "display_name": "Python 3",
   "language": "python",
   "name": "python3"
  },
  "language_info": {
   "codemirror_mode": {
    "name": "ipython",
    "version": 3
   },
   "file_extension": ".py",
   "mimetype": "text/x-python",
   "name": "python",
   "nbconvert_exporter": "python",
   "pygments_lexer": "ipython3",
   "version": "3.5.5"
  }
 },
 "nbformat": 4,
 "nbformat_minor": 2
}
